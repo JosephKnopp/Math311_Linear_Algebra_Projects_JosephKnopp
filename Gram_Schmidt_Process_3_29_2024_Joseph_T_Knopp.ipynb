{
  "nbformat": 4,
  "nbformat_minor": 0,
  "metadata": {
    "colab": {
      "provenance": [],
      "authorship_tag": "ABX9TyMhOPEO/Qov2YuvTdS433yS",
      "include_colab_link": true
    },
    "kernelspec": {
      "name": "python3",
      "display_name": "Python 3"
    },
    "language_info": {
      "name": "python"
    }
  },
  "cells": [
    {
      "cell_type": "markdown",
      "metadata": {
        "id": "view-in-github",
        "colab_type": "text"
      },
      "source": [
        "<a href=\"https://colab.research.google.com/github/JosephKnopp/Math311_Linear_Algebra_Projects_JosephKnopp/blob/main/Gram_Schmidt_Process_3_29_2024_Joseph_T_Knopp.ipynb\" target=\"_parent\"><img src=\"https://colab.research.google.com/assets/colab-badge.svg\" alt=\"Open In Colab\"/></a>"
      ]
    },
    {
      "cell_type": "code",
      "source": [
        "import matplotlib.pyplot as plt\n",
        "from sympy import Poly\n",
        "import sympy as sym\n",
        "import numpy as np\n",
        "from numpy import c_\n",
        "\n",
        "# variables\n",
        "x, t = sym.symbols('x, t')\n",
        "\n",
        "ll = \"loaded\"\n",
        "\n",
        "r1 = np.array([3, 0, 3, 0])\n",
        "r2 = np.array([3, 2, 3, 3])\n",
        "r3 = np.array([-7, -4, -5, -6])\n",
        "r4 = np.array([-7, -3, -11, 2])\n",
        "\n",
        "#     Part 1\n",
        "\n",
        "print('Part 1:')\n",
        "\n",
        "# u1\n",
        "t1 = r1\n",
        "t1_mag = np.sqrt(t1.dot(t1))\n",
        "u1 = (1/t1_mag)*(t1)\n",
        "\n",
        "# u2\n",
        "t2 = r2 - (r2.dot(u1))*u1\n",
        "t2_mag = np.sqrt(t2.dot(t2))\n",
        "u2 = (1/t2_mag)*(t2)\n",
        "\n",
        "# u3\n",
        "t3 = r3 - (r3.dot(u1))*u1 - (r3.dot(u2))*u2\n",
        "t3_mag = np.sqrt(t3.dot(t3))\n",
        "u3 = (1/t3_mag)*(t3)\n",
        "\n",
        "# u4\n",
        "t4 = r4 - (r4.dot(u1))*u1 - (r4.dot(u2))*u2 - (r4.dot(u3))*u3\n",
        "t4_mag = np.sqrt(t4.dot(t4))\n",
        "u4 = (1/t4_mag)*t4\n",
        "\n",
        "print('u1 is ', u1)\n",
        "print('u2 is ', u2)\n",
        "print('u3 is ', u3)\n",
        "print('u4 is', u4)\n",
        "\n",
        "print()\n",
        "\n",
        "#    Part 2\n",
        "print('Part 2:')\n",
        "print('u1 dot u2 is ', u1.dot(u2))\n",
        "print('u1 dot u3 is ', u1.dot(u3))\n",
        "print('u1 dot u4 is ', u1.dot(u4))\n",
        "print('u2 dot u3 is ', u2.dot(u3))\n",
        "print('u2 dot u4 is ', u2.dot(u4))\n",
        "print('u3 dot u4 is ', u1.dot(u4))\n",
        "\n",
        "print()\n",
        "\n",
        "#     Part 3\n",
        "print('Part 3')\n",
        "print('Magnitude u1', u1.dot(u1))\n",
        "print('Magnitude u2', u2.dot(u2))\n",
        "print('Magnitude u3', u3.dot(u3))\n",
        "print('Magnitude u4', u4.dot(u4))\n",
        "\n",
        "print()\n",
        "\n",
        "#     Part 4\n",
        "x1 = np.array([3, 0, 3, 0])\n",
        "x2 = np.array([3, 2, 3, 3])\n",
        "x3 = np.array([-7, -4, -5, -6])\n",
        "x4 = np.array([-7, -3, -11, 2])\n",
        "print('Part 4:')\n",
        "print('Do we get <3, 0, 3, 0>: ', x1.dot(u1)*u1 + x1.dot(u2)*u2 + x1.dot(u3)*u3 + x1.dot(u4)*u4)\n",
        "print('Do we get <3, 2, 3, 3>: ', x2.dot(u1)*u1 + x2.dot(u2)*u2 + x2.dot(u3)*u3 + x2.dot(u4)*u4)\n",
        "print('Do we get <-7, -4, -5, -6>: ', x3.dot(u1)*u1 + x3.dot(u2)*u2 + x3.dot(u3)*u3 + x3.dot(u4)*u4)\n",
        "print('Do we get <-7, -3, -11, 2>: ', x4.dot(u1)*u1 + x4.dot(u2)*u2 + x4.dot(u3)*u3 + x4.dot(u4)*u4)"
      ],
      "metadata": {
        "id": "JrCFwtqM1KY_",
        "colab": {
          "base_uri": "https://localhost:8080/"
        },
        "outputId": "aa5571fa-069f-40e5-b4fc-f48189beaaa5"
      },
      "execution_count": 1,
      "outputs": [
        {
          "output_type": "stream",
          "name": "stdout",
          "text": [
            "Part 1:\n",
            "u1 is  [0.70710678 0.         0.70710678 0.        ]\n",
            "u2 is  [-1.23168186e-16  5.54700196e-01 -1.23168186e-16  8.32050294e-01]\n",
            "u3 is  [-7.07106781e-01 -3.14018492e-16  7.07106781e-01 -6.28036983e-16]\n",
            "u4 is [ 0.         -0.83205029  0.          0.5547002 ]\n",
            "\n",
            "Part 2:\n",
            "u1 dot u2 is  -1.741861189847285e-16\n",
            "u1 dot u3 is  0.0\n",
            "u1 dot u4 is  0.0\n",
            "u2 dot u3 is  -6.967444759389139e-16\n",
            "u2 dot u4 is  -1.2212453270876722e-15\n",
            "u3 dot u4 is  0.0\n",
            "\n",
            "Part 3\n",
            "Magnitude u1 1.0000000000000002\n",
            "Magnitude u2 1.0\n",
            "Magnitude u3 0.9999999999999998\n",
            "Magnitude u4 1.0\n",
            "\n",
            "Part 4:\n",
            "Do we get <3, 0, 3, 0>:  [ 3.00000000e+00 -4.09928501e-16  3.00000000e+00 -6.14892752e-16]\n",
            "Do we get <3, 2, 3, 3>:  [3. 2. 3. 3.]\n",
            "Do we get <-7, -4, -5, -6>:  [-7. -4. -5. -6.]\n",
            "Do we get <-7, -3, -11, 2>:  [ -7.  -3. -11.   2.]\n"
          ]
        }
      ]
    },
    {
      "cell_type": "code",
      "source": [],
      "metadata": {
        "id": "fYSAOUNIGAiP"
      },
      "execution_count": null,
      "outputs": []
    }
  ]
}